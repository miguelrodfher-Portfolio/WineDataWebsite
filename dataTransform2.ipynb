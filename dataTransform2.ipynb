{
 "cells": [
  {
   "cell_type": "code",
   "execution_count": 78,
   "metadata": {},
   "outputs": [],
   "source": [
    "import sqlite3\n",
    "import pandas as pd\n",
    "from pandas import DataFrame"
   ]
  },
  {
   "cell_type": "code",
   "execution_count": 79,
   "metadata": {},
   "outputs": [],
   "source": [
    "conn = sqlite3.connect('wine.SQLite')  \n",
    "db = conn.cursor()"
   ]
  },
  {
   "cell_type": "code",
   "execution_count": 80,
   "metadata": {},
   "outputs": [],
   "source": [
    "States = pd.read_csv (r'Wine_by_State2.csv')\n",
    "States.to_sql('States', conn, if_exists='replace', index = False)"
   ]
  },
  {
   "cell_type": "code",
   "execution_count": 81,
   "metadata": {},
   "outputs": [],
   "source": [
    "Top10 = pd.read_csv (r'WineTop10.csv')\n",
    "Top10.to_sql('Top10', conn, if_exists='replace', index = False)"
   ]
  },
  {
   "cell_type": "code",
   "execution_count": 82,
   "metadata": {},
   "outputs": [
    {
     "name": "stdout",
     "output_type": "stream",
     "text": [
      "[('LatLong',), ('States',), ('Top10',)]\n"
     ]
    }
   ],
   "source": [
    "db.execute('SELECT name from sqlite_master where type= \"table\"')\n",
    "print(db.fetchall())"
   ]
  },
  {
   "cell_type": "code",
   "execution_count": 83,
   "metadata": {},
   "outputs": [
    {
     "name": "stdout",
     "output_type": "stream",
     "text": [
      "(1, 4, 'US', \"Much like the regular bottling from 2012, this comes across as rather rough and tannic, with rustic, earthy, herbal characteristics. Nonetheless, if you think of it as a pleasantly unfussy country wine, it's a good companion to a hearty winter stew.\", \"Vintner's Reserve Wild Child Block\", 87, 65, 'Oregon', 'Willamette Valley', 'Willamette Valley', 'Paul Gregutt', '@paulgwine\\xa0', \"Sweet Cheeks 2012 Vintner's Reserve Wild Child Block Pinot Noir (Willamette Valley)\", 'Pinot Noir', 'Sweet Cheeks')\n",
      "(2, 10, 'US', 'Soft, supple plum envelopes an oaky structure in this Cabernet, supported by 15% Merlot. Coffee and chocolate complete the picture, finishing strong at the end, resulting in a value-priced wine of attractive flavor and immediate accessibility.', 'Mountain Cuvée', 87, 19, 'California', 'Napa Valley', 'Napa', 'Virginie Boone', '@vboone', 'Kirkland Signature 2011 Mountain Cuvée Cabernet Sauvignon (Napa Valley)', 'Cabernet Sauvignon', 'Kirkland Signature')\n",
      "(3, 23, 'US', 'This wine from the Geneseo district offers aromas of sour plums and just enough cigar box to tempt the nose. The flavors are a bit flat at first, then the acidity and tension of sour cherries emerges in the midpalate, bolstered by some black licorice.', 'Signature Selection', 87, 22, 'California', 'Paso Robles', 'Central Coast', 'Matt Kettmann', '@mattkettmann', 'Bianchi 2011 Signature Selection Merlot (Paso Robles)', 'Merlot', 'Bianchi')\n",
      "(4, 25, 'US', 'Oak and earth intermingle around robust aromas of wet forest floor in this vineyard-designated Pinot that hails from a high-elevation site. Small in production, it offers intense, full-bodied raspberry and blackberry steeped in smoky spice and smooth texture.', 'King Ridge Vineyard', 87, 69, 'California', 'Sonoma Coast', 'Sonoma', 'Virginie Boone', '@vboone', 'Castello di Amorosa 2011 King Ridge Vineyard Pinot Noir (Sonoma Coast)', 'Pinot Noir', 'Castello di Amorosa')\n",
      "(5, 35, 'US', 'As with many of the Erath 2010 vineyard designates, this is strongly herbal. The notes of leaf and herb create somewhat unripe flavor impressions, with a touch of bitterness on the finish. The fruit just passes the ripeness of sweet tomatoes.', 'Hyland', 86, 50, 'Oregon', 'McMinnville', 'Willamette Valley', 'Paul Gregutt', '@paulgwine\\xa0', 'Erath 2010 Hyland Pinot Noir (McMinnville)', 'Pinot Noir', 'Erath')\n",
      "(6, 60, 'US', 'Syrupy and dense, this wine is jammy in plum and vanilla, with indeterminate structure and plenty of oak. Ripe and full-bodied, it has accents of graphite and leather.', 'Estate', 86, 100, 'California', 'Napa Valley', 'Napa', 'Virginie Boone', '@vboone', 'Okapi 2013 Estate Cabernet Sauvignon (Napa Valley)', 'Cabernet Sauvignon', 'Okapi')\n",
      "(7, 64, 'US', 'There are intriguing touches to the nose of this bottling, with jasmine, sea salt, wet hay, quinine and rainy sidewalk. The structure on the sip is quite delicate, with golden apple and honey flavors.', 'Golden Horn', 86, 26, 'California', 'Santa Ynez Valley', 'Central Coast', 'Matt Kettmann', '@mattkettmann', 'Sevtap 2015 Golden Horn Sauvignon Blanc (Santa Ynez Valley)', 'Sauvignon Blanc', 'Sevtap')\n",
      "(8, 67, 'US', 'A blend of Merlot and Cabernet Franc, this wine brings disjointed lightly volatile aromas of wood spice, vanilla and cherry. The plump cherry flavors are rounded out by woody barrel notes.', 'Inspired', 86, 46, 'Washington', 'Columbia Valley (WA)', 'Columbia Valley', 'Sean P. Sullivan', '@wawinereport', 'Basel Cellars 2013 Inspired Red (Columbia Valley (WA))', 'Bordeaux-style Red Blend', 'Basel Cellars')\n",
      "(9, 71, 'US', \"Big oak defines this robustly dense and extracted red, swimming in vanilla and cherry flavor. Full-bodied and gravelly in texture, it's a rustically pleasant wine for pizza nights and crowds.\", 'Old Vine', 86, 40, 'California', 'Alexander Valley', 'Sonoma', 'Virginie Boone', '@vboone', 'Eco Terreno 2013 Old Vine Cabernet Sauvignon (Alexander Valley)', 'Cabernet Sauvignon', 'Eco Terreno')\n",
      "(10, 73, 'US', \"Juicy plum, raspberry and pencil lead lead the way in this vineyard designate, a site that's 2,000 feet high. Tobacco and cedar meet a full-bodied hit of oak and puckering tannin, the wine still youthfully wrapped in its full-bodied boldness.\", 'Bella Vetta Vineyard', 86, 75, 'California', 'Howell Mountain', 'Napa', 'Virginie Boone', '@vboone', 'Hindsight 2013 Bella Vetta Vineyard Cabernet Sauvignon (Howell Mountain)', 'Cabernet Sauvignon', 'Hindsight')\n",
      "(11, 75, 'US', 'This is made from equal parts Cabernet Franc and Merlot, with small additions of Malbec. Juicy, it reveals a raisiny quality of ripeness around integrated oak and generous tannin.', 'The Cypher', 86, 75, 'California', 'Napa Valley', 'Napa', 'Virginie Boone', '@vboone', 'Mulvane Wine Co. 2013 The Cypher Red (Napa Valley)', 'Bordeaux-style Red Blend', 'Mulvane Wine Co.')\n",
      "(12, 78, 'US', \"Some rosés are made simply by bleeding the juice from the fermenter, to concentrate the remaining wine. Whether or not that is the case here, the wine has the simple pleasant lightly candied strawberry flavors one might expect from such a technique. It's fruity and undemanding. Drink up.\", 'Rosé of', 86, 25, 'Oregon', 'Eola-Amity Hills', 'Willamette Valley', 'Paul Gregutt', '@paulgwine\\xa0', \"Z'IVO 2015 Rosé of Pinot Noir (Eola-Amity Hills)\", 'Pinot Noir', \"Z'IVO\")\n",
      "(13, 84, 'US', 'A healthy addition of 13% Petite Sirah provides added weight and intensity to this wine, a soft, supple and richly conceived combination of smoky black fruit and mocha.', 'Classic', 86, 24, 'California', 'Napa Valley', 'Napa', 'Virginie Boone', '@vboone', 'Napa Cellars 2014 Classic Zinfandel (Napa Valley)', 'Zinfandel', 'Napa Cellars')\n",
      "(14, 87, 'US', 'Softened tannins surround a light-bodied, lean and herbal approach to this vineyard-designate, dotted in black pepper, leather and baked cherry.', 'Blau Vineyards', 86, 55, 'California', 'Knights Valley', 'Sonoma', 'Virginie Boone', '@vboone', 'Passaggio 2014 Blau Vineyards Merlot (Knights Valley)', 'Merlot', 'Passaggio')\n",
      "(15, 90, 'US', \"This blend of Sangiovese, Malbec, Cabernet Sauvignon, Petite Sirah and other varieties plays well to type. It shows a wealth of ripe, dusty black fruit that's richly round and soft on the palate, approachable and lightly oaked.\", 'Siena', 88, 23, 'California', 'Sonoma County', 'Sonoma', 'Virginie Boone', '@vboone', 'Ferrari-Carano 2014 Siena Red (Sonoma County)', 'Red Blend', 'Ferrari-Carano')\n",
      "(16, 99, 'US', \"This blends 20% each of all five red-Bordeaux varieties, showing grapy, plummy flavor that's juicy and soft on the palate. With a core of tobacco, tar and graphite, it complements the fruity with the savory, ending simply and elegantly.\", 'Intreccio Library Selection', 88, 75, 'California', 'Napa Valley', 'Napa', 'Virginie Boone', '@vboone', 'Soquel Vineyards 2013 Intreccio Library Selection Red (Napa Valley)', 'Bordeaux-style Red Blend', 'Soquel Vineyards')\n",
      "(17, 108, 'US', 'Lots of spearmint, coyote mint, hot licorice, ginger snaps and Dr Pepper spice up the strawberry fruit of this wine that provides a very herbal take on the grape. Oregano, marjoram, thyme and dill all make a showing on the sip, against a backbone of sweet cherry and blackberry fruit, finishing on cedar.', 'J.D. Hurley', 87, 26, 'California', 'Santa Clara Valley', 'Central Coast', 'Matt Kettmann', '@mattkettmann', 'Martin Ranch 2014 J.D. Hurley Zinfandel (Santa Clara Valley)', 'Zinfandel', 'Martin Ranch')\n",
      "(18, 111, 'US', 'This 100% varietal wine opens in a heady aroma of leather pouch, clove and marshmallow. Both herbaceous and tannic, it begs for more time in the bottle or substantial swirling in the glass.', 'Wolff Vineyard', 87, 85, 'California', 'Yountville', 'Napa', 'Virginie Boone', '@vboone', 'Piña 2013 Wolff Vineyard Cabernet Sauvignon (Yountville)', 'Cabernet Sauvignon', 'Piña')\n",
      "(19, 114, 'US', 'Tar, dried meat, olallieberry and sharp cedar aromas show on this blend of 51% Cabernet Sauvignon and 49% Merlot. Dried strawberries and plums mix with thyme and dried rose petals on the palate.', 'BDX', 87, 18, 'California', 'Paso Robles', 'Central Coast', 'Matt Kettmann', '@mattkettmann', 'Pull 2012 BDX Red (Paso Robles)', 'Bordeaux-style Red Blend', 'Pull')\n",
      "(20, 144, 'US', 'Thick and brooding, this dark, sweetly tannic wine also offers higher-toned elements of cedar, dried herb and graphite. It finds its balance amid a full-bodied density of fruit concentration and girth of structure. Drink now through 2023.', 'K Block', 91, 85, 'California', 'Spring Mountain District', 'Napa', 'Virginie Boone', '@vboone', 'Terra Valentine 2013 K Block Cabernet Sauvignon (Spring Mountain District)', 'Cabernet Sauvignon', 'Terra Valentine')\n",
      "(21, 145, 'US', 'Cooked cranberry is spiced with anise, peppercorn and roasted beef slices on this bottling from a vineyard planted by three brothers who are longtime Salinas Valley farmers. The palate shows dark cranberry and raspberry, spiced up by chopped sage, thyme and bay leaf.', 'Guidotti Vineyard', 91, 64, 'California', 'Santa Lucia Highlands', 'Central Coast', 'Matt Kettmann', '@mattkettmann', 'Testarossa 2013 Guidotti Vineyard Pinot Noir (Santa Lucia Highlands)', 'Pinot Noir', 'Testarossa')\n",
      "(22, 146, 'US', \"There's a touch of hot asphalt, pencil lead and miso on the nose of this first vintage from a promising, well-funded project, with dark elderberry fruit and dried dill rounding out the aromas. The palate blends a gamy beef quality with oregano, marjoram, cooked strawberry, baked blackberry and a sesame-oil character.\", 'Family Reserve', 91, 68, 'California', 'Santa Ynez Valley', 'Central Coast', 'Matt Kettmann', '@mattkettmann', 'Vincent Vineyards 2010 Family Reserve Cabernet Sauvignon (Santa Ynez Valley)', 'Cabernet Sauvignon', 'Vincent Vineyards')\n",
      "(23, 147, 'US', \"Black cherry, black plum and black currant are integrated well into the fresh dill and smoke scents on the nose of this wine from one of the region's newest properties. It discloses a rich dark-chocolate sauce character on the palate as well as black-currant-jelly flavors, but most impressive is the lush, sexy and soft mouthfeel.\", 'Family Reserve', 91, 68, 'California', 'Santa Ynez Valley', 'Central Coast', 'Matt Kettmann', '@mattkettmann', 'Vincent Vineyards 2012 Family Reserve Cabernet Sauvignon (Santa Ynez Valley)', 'Cabernet Sauvignon', 'Vincent Vineyards')\n",
      "(24, 149, 'US', \"Smashed blackberry and blueberry fruit are enhanced by burned caramel, heavy slate and touches of soy and smoke on the nose. There's great depth in both body and flavors once sipped, with a layer of fine-grained tannins revealing teriyaki, black plum, boysenberry and touches of lavender.\", 'Destruction Level', 91, 35, 'California', 'Monterey', 'Central Coast', 'Matt Kettmann', '@mattkettmann', 'Wrath 2013 Destruction Level Red (Monterey)', 'Rhône-style Red Blend', 'Wrath')\n",
      "(25, 150, 'US', 'This wine shows off Yountville fruit at its finest, starting with a floral component to the nose. Spicy, bright and lifted, it coats the palate in ripe berry and cherry, ending with a snap of vanilla.', \"Ruth's Reach\", 91, 25, 'California', 'Napa Valley', 'Napa', 'Virginie Boone', '@vboone', \"Yardstick 2013 Ruth's Reach Cabernet Sauvignon (Napa Valley)\", 'Cabernet Sauvignon', 'Yardstick')\n",
      "(26, 152, 'US', 'From a promising new project, the nose of this wine is linear and focused, with black raspberry, black licorice, cola, wet sagebrush and rain-on-slate scents. The tactile acidity once sipped creates a fascinating soft buzz on the tongue, with flavors of dried mint, brisk raspberry and cherry tomato. Camphor and eucalyptus add intrigue on the finish.', 'Estate Reserve', 91, 55, 'California', 'Carmel Valley', 'Central Coast', 'Matt Kettmann', '@mattkettmann', 'Albatross Ridge 2012 Estate Reserve Pinot Noir (Carmel Valley)', 'Pinot Noir', 'Albatross Ridge')\n",
      "(27, 153, 'US', 'Dark and thick in the glass, this wine shows strong but not bitter tar notes on the nose plus charred beef in a blueberry glaze, wet campfire, bourbon barrel and vanilla. The structure is massive now, gooey with thick tannins and flavors of espresso bean and condensed purple flowers. Judicious acidity ensures strong cellaring potential. Drink 2018–2027.', 'Old 900', 91, 46, 'California', 'Paso Robles', 'Central Coast', 'Matt Kettmann', '@mattkettmann', 'Alta Colina 2012 Old 900 Syrah (Paso Robles)', 'Syrah', 'Alta Colina')\n",
      "(28, 161, 'US', 'A hearty blend of 76% Zinfandel and 24% Petite Sirah, this bottling packs a wallop of cinnamon-stick on the nose as well as strawberry puree, licorice and black pepper. Clove, allspice, and nutmeg arise immediately on the sip, backed by baked plum and bay leaf notes.', 'Mr. Nibbles', 91, 35, 'California', 'Paso Robles', 'Central Coast', 'Matt Kettmann', '@mattkettmann', 'Chronic Cellars 2013 Mr. Nibbles Red (Paso Robles)', 'Red Blend', 'Chronic Cellars')\n",
      "(29, 168, 'US', 'A fairly elegant expression of the variety, this wine is bright in cherry kirsch and pretty aromas of rose petal and lavender, structured to age and enjoy with food. Rector Creek Vineyard is just north of Yountville and planted in rocky alluvial soils. Drink now through 2022.', 'Rector Creek Vineyard', 91, 95, 'California', 'Napa Valley', 'Napa', 'Virginie Boone', '@vboone', 'Duckhorn 2012 Rector Creek Vineyard Merlot (Napa Valley)', 'Merlot', 'Duckhorn')\n",
      "(30, 169, 'US', \"This wine is put together from multiple vineyard sources, including the well-known Morelli Lane and Widdoes, all farmed by the Duttons. Larger in production than many of the vineyard-designates, it offers baked bread and juicy overtones of cranberry-raspberry layered atop luxuriously toasted oak. It'll show well at the table.\", 'Dutton Ranch', 91, 44, 'California', 'Russian River Valley', 'Sonoma', 'Virginie Boone', '@vboone', 'Dutton-Goldfield 2014 Dutton Ranch Pinot Noir (Russian River Valley)', 'Pinot Noir', 'Dutton-Goldfield')\n",
      "(31, 198, 'US', \"This is a soft, well-crafted wine from the eastern side of St. Helena that's both classic in its dried herb, tobacco and tea aromas and fruity with red currant and cranberry notes.\", 'Four Soil Mélange', 90, 60, 'California', 'Napa Valley', 'Napa', 'Virginie Boone', '@vboone', 'Sequum 2013 Four Soil Mélange Cabernet Sauvignon (Napa Valley)', 'Cabernet Sauvignon', 'Sequum')\n",
      "(32, 205, 'US', 'Rich honeysuckle, marzipan and oak aromas meet bright lemongrass on the nose of this bottling, showing both the fresh and oxidative sides of the grape. Smoked chicken and brioche notes are prominent on the palate, leading to a tangy, botanical, juniper-laced finish.', 'October Night', 90, 25, 'California', 'Arroyo Seco', 'Central Coast', 'Matt Kettmann', '@mattkettmann', 'J. Lohr 2015 October Night Chardonnay (Arroyo Seco)', 'Chardonnay', 'J. Lohr')\n",
      "(33, 207, 'US', 'Juicy and austere in understated waves of cranberry and cherry fruit, this wine delivers subtle power and intensity in a leathery-textured package. True to its old vine heritage, it shows a dry dustiness of peppery spice.', 'Home Ranch Teldeschi Vineyards Century Old Vine', 90, 32, 'California', 'Dry Creek Valley', 'Sonoma', 'Virginie Boone', '@vboone', 'Del Carlo Winery 2014 Home Ranch Teldeschi Vineyards Century Old Vine Zinfandel (Dry Creek Valley)', 'Zinfandel', 'Del Carlo Winery')\n",
      "(34, 213, 'US', 'This blend of 60% Petite Sirah, 21% Syrah, 7% Grenache, 6% Petit Verdot, 5% Tannat and 1% Viognier is tightly wound but likely to improve with time. Opened now, it offers elderberry, black currant, pencil lead and loam on the nose, with lava rock, crème de cassis and kirsch flavors slowing emerging on the palate.', '1105', 90, 48, 'California', 'Paso Robles', 'Central Coast', 'Matt Kettmann', '@mattkettmann', 'MCV 2014 1105 Red (Paso Robles)', 'Red Blend', 'MCV')\n",
      "(35, 214, 'US', 'This is a big, brawny expression of Grenache, Mourvèdre, Syrah and Counoise, the Grenache playing the dominant role in the blend. It coats the palate in dense raspberry and blueberry fruit, seasoned with pepper and nutmeg. A leathery touch to the texture and lifted acidity keeps it from feeling heavy or overdone.', 'Verah', 90, 36, 'California', 'Dry Creek Valley', 'Sonoma', 'Virginie Boone', '@vboone', 'Mounts 2014 Verah Red (Dry Creek Valley)', 'Rhône-style Red Blend', 'Mounts')\n",
      "(36, 233, 'US', \"There is an odd, piercing edge to the aromas, a mix of acetic acid and pungent herb, with a hint of diesel. Somehow it's not off-putting, just atypical. The light, tart fruit is a mix of rhubarb and cranberry, very earthy and tasting of dirt and bark in the finish. This could be quite pleasant with a hearty, rustic dish such as beef Bourgogne.\", 'Reserve', 85, 28, 'Oregon', 'Willamette Valley', 'Willamette Valley', 'Paul Gregutt', '@paulgwine\\xa0', 'Silvan Ridge 2006 Reserve Pinot Noir (Willamette Valley)', 'Pinot Noir', 'Silvan Ridge')\n",
      "(37, 248, 'US', \"This seems as if it was assembled from lesser barrels. It's pleasant, very light, simple and tart; the dominant flavor is cranberry juice.\", 'Estate Single Vineyard', 85, 45, 'Oregon', 'Willamette Valley', 'Willamette Valley', 'Paul Gregutt', '@paulgwine\\xa0', 'Amity 2006 Estate Single Vineyard Pinot Noir (Willamette Valley)', 'Pinot Noir', 'Amity')\n",
      "(38, 251, 'US', \"Spicy and tannic, this inexpensive Pinot from Cherry Hill opens with earthy fruit and leaf flavors—tomato and herb dominate, with just a suggestion of berry. There isn't much in the way of ripeness here, to either fruit or tannins.\", 'Papillon Estate', 85, 22, 'Oregon', 'Willamette Valley', 'Willamette Valley', 'Paul Gregutt', '@paulgwine\\xa0', 'Cherry Hill 2006 Papillon Estate Pinot Noir (Willamette Valley)', 'Pinot Noir', 'Cherry Hill')\n",
      "(39, 260, 'US', \"Young, tart and wrapped up tight as a drum, this offers sharp flavors of cranberry and a bit of Campari. It has the heft and polish to open up further with some additional bottle age, but it isn't budging at the moment.\", 'Estate', 89, 40, 'Oregon', 'Willamette Valley', 'Willamette Valley', 'Paul Gregutt', '@paulgwine\\xa0', 'Willamette Valley Vineyards 2009 Estate Pinot Noir (Willamette Valley)', 'Pinot Noir', 'Willamette Valley Vineyards')\n",
      "(40, 262, 'US', \"Beaver Creek makes a variation of Fairytale every vintage and this one, sourced from Napa Valley, is 41% Merlot, 36% Zinfandel and 23% Syrah, a mix that seems to work very nicely here. The wine's Zin almost tastes as if it has mountain tannins; the wine is overall herbal and earthy, ripe and sturdy with balanced fruit.\", 'Fairytale', 89, 39, 'California', 'Napa Valley', 'Napa', 'Virginie Boone', '@vboone', 'Beaver Creek 2008 Fairytale Red (Napa Valley)', 'Red Blend', 'Beaver Creek')\n",
      "(41, 283, 'US', 'Bella Vida replaces the Abbey Ridge bottling and does so with pizzazz. The best of the 2011 releases, this is a beautiful expression of grapes grown on red clay soils, with refined, deeply penetrating flavors of ripe raspberries. Smooth, supple and long, with uncommon purity, it finishes with a kiss of chocolate from 18 months in one-quarter new oak barrels.', 'Bella Vida Vineyard Unfiltered', 92, 52, 'Oregon', 'Dundee Hills', 'Willamette Valley', 'Paul Gregutt', '@paulgwine\\xa0', 'J. Christopher 2011 Bella Vida Vineyard Unfiltered Pinot Noir (Dundee Hills)', 'Pinot Noir', 'J. Christopher')\n",
      "(42, 301, 'US', 'A good, clean, tart and lightly spicy all-stainless style. Cool climate fruit puts the accent on lime and lemon flavors, keeps the alcohol low (13.3%), and makes this a fine match to shellfish, white fish and light pasta dishes.', 'Whiteline No Oak', 87, 14, 'Washington', 'Columbia Valley (WA)', 'Columbia Valley', 'Paul Gregutt', '@paulgwine\\xa0', 'Buried Cane 2009 Whiteline No Oak Chardonnay (Columbia Valley (WA))', 'Chardonnay', 'Buried Cane')\n",
      "(43, 341, 'US', 'Plummy and hinting at black cherry, this wine is otherwise soft and simple, with a distracting, full-throttled descent into raisin cake and prune.', 'Serracino Reserve', 82, 48, 'California', 'Dry Creek Valley', 'Sonoma', 'Virginie Boone', '@vboone', 'Pezzi King 2013 Serracino Reserve Zinfandel (Dry Creek Valley)', 'Zinfandel', 'Pezzi King')\n",
      "(44, 352, 'US', 'Citrus-kissed saltiness lies at the core of this incredibly delicious, deliriously crafted wine, from the great grape grower in the heart of the Russian River Valley. Beautifully crisp, it lingers in stony minerality and a freshness of apricot, memorable from first sip to last.', 'South River', 96, 68, 'California', 'Russian River Valley', 'Sonoma', 'Virginie Boone', '@vboone', 'Rochioli 2014 South River Chardonnay (Russian River Valley)', 'Chardonnay', 'Rochioli')\n",
      "(45, 355, 'US', 'A waft of smoky char and toasty oak provide a rich foundation and compelling entry into this one-acre vineyard-designate from the historic grower, before unleashing, slowly, a torrent of melon and fresh-cut apple with a length of intriguing nutmeg and cardamom. Medium-bodied and lush, it will remain on your palate memory a long time.', 'Sweetwater', 96, 68, 'California', 'Russian River Valley', 'Sonoma', 'Virginie Boone', '@vboone', 'Rochioli 2014 Sweetwater Chardonnay (Russian River Valley)', 'Chardonnay', 'Rochioli')\n",
      "(46, 362, 'US', \"As impressive as the woman—a pioneer in the Napa Valley—was herself, this 100% varietal wine from the estate property high atop Diamond Mountain is powerfully elegant, intense yet refined. It begins with a high-toned, graceful entry that's rich in blueberry and chocolate, the oak smooth and integrated, with a suggestion of hand-rolled tobacco. Drink now through 2022.\", 'Jamie', 95, 200, 'California', 'Diamond Mountain District', 'Napa', 'Virginie Boone', '@vboone', 'J. Davies 2012 Jamie Cabernet Sauvignon (Diamond Mountain District)', 'Cabernet Sauvignon', 'J. Davies')\n",
      "(47, 364, 'US', \"For 2014, the Weber is the star of a very fine Winderlea lineup. Dark and deeply concentrated, it's jammed with black cherry fruit, annotated with anise and showing a hint of gunmetal. The tannins are ripe and taste of clean earth. This is a fine candidate for aging. Drink now through 2030.\", 'Weber Vineyard', 95, 48, 'Oregon', 'Dundee Hills', 'Willamette Valley', 'Paul Gregutt', '@paulgwine\\xa0', 'Winderlea 2014 Weber Vineyard Pinot Noir (Dundee Hills)', 'Pinot Noir', 'Winderlea')\n",
      "(48, 388, 'US', 'Delicate and complex, a cool climate wine with a mixture of ripe cherry flavors and leaner ones of tobacco, tomato skin, and cranberry. Bone dry with excellent acidity, this somewhat tart wine is well made, and may be an ager.', 'Paragon Vineyard', 88, 25, 'California', 'Edna Valley', 'Central Coast', 'Roger Voss', '@vossroger', 'Kynsi 1999 Paragon Vineyard Pinot Noir (Edna Valley)', 'Pinot Noir', 'Kynsi')\n",
      "(49, 421, 'US', 'All varietal, this wine is a blend of fruit from top sites Ciel du Cheval, Conner Lee, Obelisco and Stonetree. The aromas are quite reserved, with notes of barrel spice that are followed by full-bodied fruit flavors with a spicy finish. It drinks well but the variety seems lost.', 'Confidential Source', 89, 30, 'Washington', 'Columbia Valley (WA)', 'Columbia Valley', 'Sean P. Sullivan', '@wawinereport', 'Guardian 2013 Confidential Source Merlot (Columbia Valley (WA))', 'Merlot', 'Guardian')\n",
      "(50, 429, 'US', \"Aromas of coffee, barrel spice and dark-blue fruit lead to rich, full-bodied blackberry and spice flavors. It's not for the faint of heart but delivers a lot of enjoyment.\", 'The Estates Clifton Hill Vineyard', 89, 42, 'Washington', 'Wahluke Slope', 'Columbia Valley', 'Sean P. Sullivan', '@wawinereport', 'Milbrandt 2013 The Estates Clifton Hill Vineyard Syrah (Wahluke Slope)', 'Syrah', 'Milbrandt')\n"
     ]
    }
   ],
   "source": [
    "#This function takes one argument. If the argument is an integer, it'll print the number of rows equal to the integer's value.\n",
    "#If the argument is a string, it'll print every row in the \"Top10\" table.\n",
    "def Top10(limit):\n",
    "    db.execute('SELECT * FROM Top10')\n",
    "    rows = db.fetchall()\n",
    "    if isinstance(limit, str):\n",
    "        limit = len(rows)\n",
    "    for row in rows[:limit]:\n",
    "        print(row)\n",
    "Top10(50)"
   ]
  },
  {
   "cell_type": "code",
   "execution_count": 84,
   "metadata": {},
   "outputs": [
    {
     "name": "stdout",
     "output_type": "stream",
     "text": [
      "(1, 'Arizona', 29.2, 84.92682927, 34.1682185, -111.930907)\n",
      "(2, 'California', 39.04104808, 88.62777609, 37.2718745, -119.2704153)\n",
      "(3, 'Colorado', 32.98529412, 86.11764706, 38.9979339, -105.55056699999999)\n",
      "(4, 'Connecticut', 15.33333333, 84.0, 41.518783500000005, -72.75750699999999)\n",
      "(5, 'Hawaii', 28.0, 87.0, 20.46, -157.505)\n",
      "(6, 'Idaho', 20.76842105, 86.59895833, 45.4945756, -114.1424303)\n",
      "(7, 'Illinois', 32.33333333, 84.5, 39.739318, -89.504139)\n",
      "(8, 'Iowa', 15.5, 83.0, 41.9383166, -93.389798)\n",
      "(9, 'Kentucky', 35.0, 83.0, 37.8222935, -85.76823990000001)\n",
      "(10, 'Massachusetts', 21.28571429, 84.85714286, 42.062939799999995, -71.718067)\n",
      "(11, 'Michigan', 32.43243243, 86.10526316, 44.9435598, -86.41580490000001)\n",
      "(12, 'Missouri', 17.33333333, 83.33333333, 38.3046615, -92.437099)\n",
      "(13, 'Nevada', 37.75, 84.25, 38.502032, -117.0230604)\n",
      "(14, 'New Jersey', 25.5, 84.0, 40.1430058, -74.7311156)\n",
      "(15, 'New Mexico', 22.42222222, 83.95555556, 34.1662325, -106.02606850000001)\n",
      "(16, 'New York', 22.82623318, 87.17857143, 40.7056258, -73.97968)\n",
      "(17, 'North Carolina', 21.0, 84.56521739, 35.2145629, -79.8912675)\n",
      "(18, 'Ohio', 13.75, 84.08333333, 40.1903624, -82.6692525)\n",
      "(19, 'Oregon', 36.54506438, 89.05192629999999, 44.1419049, -120.5380993)\n",
      "(20, 'Pennsylvania', 23.33333333, 84.55555556, 40.99459279999999, -77.6046984)\n",
      "(21, 'Rhode Island', 25.0, 90.0, 41.5827282, -71.5064508)\n",
      "(22, 'Texas', 25.60215054, 85.21276596, 31.1693363, -100.0768425)\n",
      "(23, 'Vermont', 31.66666667, 84.33333333, 43.8717545, -72.4477828)\n",
      "(24, 'Virginia', 27.01298701, 85.61132561, 38.0033855, -79.4587861)\n",
      "(25, 'Washington', 32.43644413, 88.94721611, 38.899348700000004, -77.0145665)\n"
     ]
    }
   ],
   "source": [
    "def Wine_by_State():\n",
    "    db.execute('SELECT * FROM States')\n",
    "    rows = db.fetchall()   \n",
    "    for row in rows:\n",
    "        print(row)\n",
    "Wine_by_State()"
   ]
  }
 ],
 "metadata": {
  "kernelspec": {
   "display_name": "Python 3",
   "language": "python",
   "name": "python3"
  },
  "language_info": {
   "codemirror_mode": {
    "name": "ipython",
    "version": 3
   },
   "file_extension": ".py",
   "mimetype": "text/x-python",
   "name": "python",
   "nbconvert_exporter": "python",
   "pygments_lexer": "ipython3",
   "version": "3.6.7"
  }
 },
 "nbformat": 4,
 "nbformat_minor": 2
}
